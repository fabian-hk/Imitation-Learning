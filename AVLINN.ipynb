{
 "cells": [
  {
   "cell_type": "code",
   "execution_count": 4,
   "metadata": {
    "collapsed": true,
    "pycharm": {
     "name": "#%%\n"
    }
   },
   "outputs": [
    {
     "name": "stdout",
     "output_type": "stream",
     "text": [
      "[]\n"
     ]
    }
   ],
   "source": [
    "%matplotlib inline\n",
    "import h5py\n",
    "import tensorflow as tf\n",
    "import cv2\n",
    "import matplotlib.pyplot as plt\n",
    "import numpy as np\n",
    "\n",
    "print(tf.config.list_physical_devices('GPU'))"
   ]
  },
  {
   "cell_type": "code",
   "execution_count": 5,
   "outputs": [
    {
     "name": "stdout",
     "output_type": "stream",
     "text": [
      "<KeysViewHDF5 ['angles', 'encoded_angles', 'images']>\n",
      "<HDF5 dataset \"angles\": shape (2000,), type \"<f8\">\n",
      "<HDF5 dataset \"encoded_angles\": shape (2000, 64), type \"<f4\">\n",
      "<HDF5 dataset \"images\": shape (2000, 60, 64), type \"|u1\">\n",
      "Video saved\n"
     ]
    }
   ],
   "source": [
    "# load data set\n",
    "\n",
    "data_set_file = \"data/track_data_2.h5\"\n",
    "\n",
    "with h5py.File(data_set_file, \"r\") as f:\n",
    "    print(f.keys())\n",
    "\n",
    "    for key in f.keys():\n",
    "        print(f[key])\n",
    "\n",
    "    fourcc = cv2.VideoWriter_fourcc(*'DIVX')\n",
    "    video = cv2.VideoWriter('video.avi', fourcc, 24, (64, 60))\n",
    "    for image, label in zip(f['images'], f['angles']):\n",
    "        video.write(image)\n",
    "\n",
    "\n",
    "    video.release()\n",
    "    print(\"Video saved\")"
   ],
   "metadata": {
    "collapsed": false,
    "pycharm": {
     "name": "#%%\n"
    }
   }
  }
 ],
 "metadata": {
  "kernelspec": {
   "display_name": "Python 3",
   "language": "python",
   "name": "python3"
  },
  "language_info": {
   "codemirror_mode": {
    "name": "ipython",
    "version": 2
   },
   "file_extension": ".py",
   "mimetype": "text/x-python",
   "name": "python",
   "nbconvert_exporter": "python",
   "pygments_lexer": "ipython2",
   "version": "2.7.6"
  }
 },
 "nbformat": 4,
 "nbformat_minor": 0
}