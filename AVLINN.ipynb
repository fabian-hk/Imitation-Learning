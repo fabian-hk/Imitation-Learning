{
 "cells": [
  {
   "cell_type": "markdown",
   "metadata": {
    "collapsed": true,
    "pycharm": {
     "name": "#%% md\n"
    }
   },
   "source": [
    "# Using an Artificial Neural Network for the Task of Road Following\n",
    "\n",
    "## Introduction\n",
    "\n",
    "Autonomous driving is getting increased attention nowadays. While it was a pure research\n",
    "topic in the 1980s, today there are many companies which develop self-driving cars. The algorithms\n",
    "used by autonomous driving systems can vary widely from traditional vision and robotic techniques to\n",
    "artificial neural networks. Since autonomous driving is a problem with a lot of noise and variability\n",
    "in the input data it is hard to optimize traditional techniques to perform well. That is why\n",
    "researcher developed artificial neural networks for the task of road following in the 1980s.\n",
    "This work is based on the paper \"ALVINN: An Autonomous Land Vehicle in a Neural Network\" by\n",
    "Pomerleau et al. and explores how a neural network can be used for the task of road following.\n",
    "The neural network gets an image as input and outputs a steering wheel angle. This is called\n",
    "an end-to-end steering system which should not be confused with semantic segmentation or object\n",
    "detection frequently used by autonomous driving systems nowadays.\n",
    "\n",
    "\n",
    "- Why is autonmous driving a hot topic right now?\n",
    "- Difficulties with traditional algorithms\n",
    "    - e.g. too much noise\n",
    "- Introduction to vision based neural networks to predict a steering angle\n",
    "- difference to semantic segmentation and object detection => this is an end to end driving system"
   ]
  },
  {
   "cell_type": "markdown",
   "source": [
    "## ALVINN Paper\n",
    "\n",
    "- background information on the ALVINN project\n",
    "- description of the technical details of the paper\n",
    "- input:\n",
    "    - camera\n",
    "    - laser range finder\n",
    "    - road intensity feedback unit\n",
    "- output:\n",
    "    - steering angle => as buckets\n",
    "    - road intensity feedback unit\n",
    "(use images from presentation)\n",
    "\n",
    "- input preprocessing => using only one color channel\n",
    "- sorting angles into buckets => encoding angles in a special way\n",
    "- technical details about the test vehicle"
   ],
   "metadata": {
    "collapsed": false,
    "pycharm": {
     "name": "#%% md\n"
    }
   }
  },
  {
   "cell_type": "markdown",
   "source": [
    "## Implementation\n",
    "\n",
    "- data set\n",
    "    - real images\n",
    "- differences to the paper\n",
    "    - no laser range finder\n",
    "    - road intensity feedback unit\n",
    "    - just vision based\n",
    "- framework (Tensorflow, OpenCV, Sklearn)"
   ],
   "metadata": {
    "collapsed": false
   }
  },
  {
   "cell_type": "code",
   "execution_count": null,
   "outputs": [],
   "source": [
    "# imports\n"
   ],
   "metadata": {
    "collapsed": false,
    "pycharm": {
     "name": "#%%\n"
    }
   }
  },
  {
   "cell_type": "code",
   "execution_count": null,
   "outputs": [],
   "source": [
    "# data loader class\n"
   ],
   "metadata": {
    "collapsed": false,
    "pycharm": {
     "name": "#%%\n"
    }
   }
  },
  {
   "cell_type": "code",
   "execution_count": null,
   "outputs": [],
   "source": [
    "# visualization of samples from the data set\n",
    "\n",
    "# maybe use matplot animation?\n"
   ],
   "metadata": {
    "collapsed": false,
    "pycharm": {
     "name": "#%%\n"
    }
   }
  },
  {
   "cell_type": "code",
   "execution_count": null,
   "outputs": [],
   "source": [
    "# model definition\n"
   ],
   "metadata": {
    "collapsed": false,
    "pycharm": {
     "name": "#%%\n"
    }
   }
  },
  {
   "cell_type": "code",
   "execution_count": null,
   "outputs": [],
   "source": [
    "# training (with graph of MSE)\n"
   ],
   "metadata": {
    "collapsed": false,
    "pycharm": {
     "name": "#%%\n"
    }
   }
  },
  {
   "cell_type": "code",
   "execution_count": null,
   "outputs": [],
   "source": [
    "# testing and visualization"
   ],
   "metadata": {
    "collapsed": false,
    "pycharm": {
     "name": "#%%\n"
    }
   }
  },
  {
   "cell_type": "markdown",
   "source": [
    "## Discussion\n",
    "\n",
    "- strength\n",
    "    - less susceptible to noise\n",
    "    - easily assimilate multiple sensors\n",
    "    - easy and fast to develop ones the data set is available => no parameter tuning\n",
    "- weakness\n",
    "    - if it is used in conditions that where not represented in the training data\n",
    "    the network will perform poorly most likely\n",
    "    - dealing with road forks"
   ],
   "metadata": {
    "collapsed": false,
    "pycharm": {
     "name": "#%% md\n"
    }
   }
  },
  {
   "cell_type": "markdown",
   "source": [
    "## Summary\n",
    "\n",
    "- Neural networks are a powerfull tool for autonomous driving if they are trained with\n",
    " a sufficient amount of really data\n",
    "- other network types could be tested => e.g. CNN in the NVIDIA Paper\n"
   ],
   "metadata": {
    "collapsed": false
   }
  }
 ],
 "metadata": {
  "kernelspec": {
   "display_name": "Python 3",
   "language": "python",
   "name": "python3"
  },
  "language_info": {
   "codemirror_mode": {
    "name": "ipython",
    "version": 2
   },
   "file_extension": ".py",
   "mimetype": "text/x-python",
   "name": "python",
   "nbconvert_exporter": "python",
   "pygments_lexer": "ipython2",
   "version": "2.7.6"
  }
 },
 "nbformat": 4,
 "nbformat_minor": 0
}